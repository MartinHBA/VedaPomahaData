{
 "cells": [
  {
   "cell_type": "code",
   "execution_count": 1,
   "metadata": {},
   "outputs": [],
   "source": [
    "# https://github.com/Icefeast/VedaPomahaData/blob/main/CakarenOckovanie/data/sum.ipynb\n",
    "import numpy as np\n",
    "import pandas as pd\n",
    "%matplotlib inline"
   ]
  },
  {
   "cell_type": "code",
   "execution_count": 3,
   "metadata": {},
   "outputs": [],
   "source": [
    "df1 = pd.read_csv('D:\\\\OneDrive\\\\git\\\\VedaPomahaData\\\\CakarenOckovanie\\\\PythonScript\\\\sched1.csv',encoding='utf-8')"
   ]
  },
  {
   "cell_type": "code",
   "execution_count": 5,
   "metadata": {},
   "outputs": [
    {
     "data": {
      "text/html": [
       "<div>\n",
       "<style scoped>\n",
       "    .dataframe tbody tr th:only-of-type {\n",
       "        vertical-align: middle;\n",
       "    }\n",
       "\n",
       "    .dataframe tbody tr th {\n",
       "        vertical-align: top;\n",
       "    }\n",
       "\n",
       "    .dataframe thead th {\n",
       "        text-align: right;\n",
       "    }\n",
       "</style>\n",
       "<table border=\"1\" class=\"dataframe\">\n",
       "  <thead>\n",
       "    <tr style=\"text-align: right;\">\n",
       "      <th></th>\n",
       "      <th></th>\n",
       "      <th></th>\n",
       "      <th></th>\n",
       "      <th>Počet registrácií</th>\n",
       "    </tr>\n",
       "    <tr>\n",
       "      <th>Dávka</th>\n",
       "      <th>Termín</th>\n",
       "      <th>Veková skupina</th>\n",
       "      <th>Čas publikovania</th>\n",
       "      <th></th>\n",
       "    </tr>\n",
       "  </thead>\n",
       "  <tbody>\n",
       "    <tr>\n",
       "      <th rowspan=\"5\" valign=\"top\">1</th>\n",
       "      <th rowspan=\"5\" valign=\"top\">2021-12-09</th>\n",
       "      <th>00-17</th>\n",
       "      <th>2021-12-09 19:05:59</th>\n",
       "      <td>55</td>\n",
       "    </tr>\n",
       "    <tr>\n",
       "      <th>18-19</th>\n",
       "      <th>2021-12-09 19:05:59</th>\n",
       "      <td>13</td>\n",
       "    </tr>\n",
       "    <tr>\n",
       "      <th>20-24</th>\n",
       "      <th>2021-12-09 19:05:59</th>\n",
       "      <td>16</td>\n",
       "    </tr>\n",
       "    <tr>\n",
       "      <th>25-29</th>\n",
       "      <th>2021-12-09 19:05:59</th>\n",
       "      <td>22</td>\n",
       "    </tr>\n",
       "    <tr>\n",
       "      <th>30-34</th>\n",
       "      <th>2021-12-09 19:05:59</th>\n",
       "      <td>28</td>\n",
       "    </tr>\n",
       "  </tbody>\n",
       "</table>\n",
       "</div>"
      ],
      "text/plain": [
       "                                                     Počet registrácií\n",
       "Dávka Termín     Veková skupina Čas publikovania                      \n",
       "1     2021-12-09 00-17          2021-12-09 19:05:59                 55\n",
       "                 18-19          2021-12-09 19:05:59                 13\n",
       "                 20-24          2021-12-09 19:05:59                 16\n",
       "                 25-29          2021-12-09 19:05:59                 22\n",
       "                 30-34          2021-12-09 19:05:59                 28"
      ]
     },
     "execution_count": 5,
     "metadata": {},
     "output_type": "execute_result"
    }
   ],
   "source": [
    "df1grouped = df1.groupby(['Dávka','Termín','Veková skupina','Čas publikovania']).sum('Počet registrácií')\n",
    "###### #df1grouped.drop('Počet okresov registrácie')\n",
    "#df1grouped.drop('Počet okresov registrácie',axis=1,inplace=True)\n",
    "df1grouped.drop_duplicates()\n",
    "df1grouped.head()"
   ]
  },
  {
   "cell_type": "code",
   "execution_count": 6,
   "metadata": {},
   "outputs": [],
   "source": [
    "df1grouped.to_csv('D:\\\\OneDrive\\\\git\\\\VedaPomahaData\\\\CakarenOckovanie\\\\terminyTrend.csv',encoding='utf-8')"
   ]
  },
  {
   "cell_type": "code",
   "execution_count": 3,
   "metadata": {},
   "outputs": [],
   "source": [
    "dflist = []\n",
    "for num in range(201):\n",
    "    dfname = f'df{num+1}'\n",
    "    dfname = pd.read_csv(f'D:\\\\OneDrive\\\\git\\\\VedaPomahaData\\\\CakarenOckovanie\\\\data\\\\{num+1}.csv',encoding='utf-8')\n",
    "    dfgrouped = dfname.groupby(['Dávka','Veková skupina','Čas publikovania']).sum('Vážený počet registrácii')\n",
    "    dfgrouped.drop('Počet okresov registrácie',axis=1,inplace=True)\n",
    "    #dfgrouped.drop_duplicates()\n",
    "    dflist.append(dfgrouped)\n",
    "result = pd.concat(dflist)\n",
    "result.drop_duplicates()\n",
    "result.to_csv('D:\\\\OneDrive\\\\git\\\\VedaPomahaData\\\\CakarenOckovanie\\\\result.csv',encoding='utf-8')\n"
   ]
  },
  {
   "cell_type": "code",
   "execution_count": 29,
   "metadata": {},
   "outputs": [],
   "source": [
    "# result.drop_duplicates()\n",
    "# result.to_csv('result1.csv',encoding='utf-8')"
   ]
  }
 ],
 "metadata": {
  "interpreter": {
   "hash": "b3ba2566441a7c06988d0923437866b63cedc61552a5af99d1f4fb67d367b25f"
  },
  "kernelspec": {
   "display_name": "Python 3.8.8 64-bit ('base': conda)",
   "language": "python",
   "name": "python3"
  },
  "language_info": {
   "codemirror_mode": {
    "name": "ipython",
    "version": 3
   },
   "file_extension": ".py",
   "mimetype": "text/x-python",
   "name": "python",
   "nbconvert_exporter": "python",
   "pygments_lexer": "ipython3",
   "version": "3.9.1"
  },
  "orig_nbformat": 4
 },
 "nbformat": 4,
 "nbformat_minor": 2
}
