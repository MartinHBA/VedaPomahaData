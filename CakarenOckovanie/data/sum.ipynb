{
 "cells": [
  {
   "cell_type": "code",
   "execution_count": 1,
   "metadata": {},
   "outputs": [],
   "source": [
    "import numpy as np\n",
    "import pandas as pd\n",
    "%matplotlib inline"
   ]
  },
  {
   "cell_type": "code",
   "execution_count": 15,
   "metadata": {},
   "outputs": [],
   "source": [
    "df1 = pd.read_csv('1.csv',encoding='utf-8')"
   ]
  },
  {
   "cell_type": "code",
   "execution_count": 24,
   "metadata": {},
   "outputs": [
    {
     "data": {
      "text/html": [
       "<div>\n",
       "<style scoped>\n",
       "    .dataframe tbody tr th:only-of-type {\n",
       "        vertical-align: middle;\n",
       "    }\n",
       "\n",
       "    .dataframe tbody tr th {\n",
       "        vertical-align: top;\n",
       "    }\n",
       "\n",
       "    .dataframe thead th {\n",
       "        text-align: right;\n",
       "    }\n",
       "</style>\n",
       "<table border=\"1\" class=\"dataframe\">\n",
       "  <thead>\n",
       "    <tr style=\"text-align: right;\">\n",
       "      <th></th>\n",
       "      <th></th>\n",
       "      <th></th>\n",
       "      <th>Vážený počet registrácii</th>\n",
       "    </tr>\n",
       "    <tr>\n",
       "      <th>Dávka</th>\n",
       "      <th>Veková skupina</th>\n",
       "      <th>Čas publikovania</th>\n",
       "      <th></th>\n",
       "    </tr>\n",
       "  </thead>\n",
       "  <tbody>\n",
       "    <tr>\n",
       "      <th rowspan=\"5\" valign=\"top\">1</th>\n",
       "      <th>00-17</th>\n",
       "      <th>2021-05-18 16:04:22</th>\n",
       "      <td>15804.000000</td>\n",
       "    </tr>\n",
       "    <tr>\n",
       "      <th>18-19</th>\n",
       "      <th>2021-05-18 16:04:22</th>\n",
       "      <td>12683.000000</td>\n",
       "    </tr>\n",
       "    <tr>\n",
       "      <th>20-24</th>\n",
       "      <th>2021-05-18 16:04:22</th>\n",
       "      <td>32424.600000</td>\n",
       "    </tr>\n",
       "    <tr>\n",
       "      <th>25-29</th>\n",
       "      <th>2021-05-18 16:04:22</th>\n",
       "      <td>37270.333333</td>\n",
       "    </tr>\n",
       "    <tr>\n",
       "      <th>30-34</th>\n",
       "      <th>2021-05-18 16:04:22</th>\n",
       "      <td>44568.266667</td>\n",
       "    </tr>\n",
       "  </tbody>\n",
       "</table>\n",
       "</div>"
      ],
      "text/plain": [
       "                                          Vážený počet registrácii\n",
       "Dávka Veková skupina Čas publikovania                             \n",
       "1     00-17          2021-05-18 16:04:22              15804.000000\n",
       "      18-19          2021-05-18 16:04:22              12683.000000\n",
       "      20-24          2021-05-18 16:04:22              32424.600000\n",
       "      25-29          2021-05-18 16:04:22              37270.333333\n",
       "      30-34          2021-05-18 16:04:22              44568.266667"
      ]
     },
     "execution_count": 24,
     "metadata": {},
     "output_type": "execute_result"
    }
   ],
   "source": [
    "df1grouped = df1.groupby(['Dávka','Veková skupina','Čas publikovania']).sum('Vážený počet registrácii')\n",
    "#df1grouped.drop('Počet okresov registrácie')\n",
    "df1grouped.drop('Počet okresov registrácie',axis=1,inplace=True)\n",
    "df1grouped.drop_duplicates()\n",
    "df1grouped.head()"
   ]
  },
  {
   "cell_type": "code",
   "execution_count": 27,
   "metadata": {},
   "outputs": [],
   "source": [
    "dflist = []\n",
    "for num in range(197):\n",
    "    dfname = f'df{num+1}'\n",
    "    dfname = pd.read_csv(f'{num+1}.csv',encoding='utf-8')\n",
    "    dfgrouped = dfname.groupby(['Dávka','Veková skupina','Čas publikovania']).sum('Vážený počet registrácii')\n",
    "    dfgrouped.drop('Počet okresov registrácie',axis=1,inplace=True)\n",
    "    #dfgrouped.drop_duplicates()\n",
    "    dflist.append(dfgrouped)\n",
    "result = pd.concat(dflist)\n",
    "result.drop_duplicates()\n",
    "result.to_csv('result.csv',encoding='utf-8')\n"
   ]
  },
  {
   "cell_type": "code",
   "execution_count": 29,
   "metadata": {},
   "outputs": [],
   "source": [
    "result.drop_duplicates()\n",
    "result.to_csv('result1.csv',encoding='utf-8')"
   ]
  }
 ],
 "metadata": {
  "interpreter": {
   "hash": "b3ba2566441a7c06988d0923437866b63cedc61552a5af99d1f4fb67d367b25f"
  },
  "kernelspec": {
   "display_name": "Python 3.8.8 64-bit ('base': conda)",
   "language": "python",
   "name": "python3"
  },
  "language_info": {
   "codemirror_mode": {
    "name": "ipython",
    "version": 3
   },
   "file_extension": ".py",
   "mimetype": "text/x-python",
   "name": "python",
   "nbconvert_exporter": "python",
   "pygments_lexer": "ipython3",
   "version": "3.8.8"
  },
  "orig_nbformat": 4
 },
 "nbformat": 4,
 "nbformat_minor": 2
}
